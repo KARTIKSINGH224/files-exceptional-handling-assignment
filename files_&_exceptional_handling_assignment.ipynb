{
  "nbformat": 4,
  "nbformat_minor": 0,
  "metadata": {
    "colab": {
      "provenance": [],
      "toc_visible": true
    },
    "kernelspec": {
      "name": "python3",
      "display_name": "Python 3"
    },
    "language_info": {
      "name": "python"
    }
  },
  "cells": [
    {
      "cell_type": "markdown",
      "source": [
        "1. What is the difference between interpreted and compiled languages?\n",
        ">> nterpreted languages execute code line by line at runtime (e.g., Python, JavaScript), making them easier to debug but slower. Compiled languages convert the entire code into machine code before execution (e.g., C, C++), making them faster but requiring compilation before running.\n",
        "\n",
        "2. What is exception handling in Python?\n",
        ">> Exception handling in Python is a mechanism to handle runtime errors and prevent program crashes. It uses try, except, else, and finally blocks to catch and manage exceptions gracefully. This ensures the program runs smoothly even when unexpected errors occur.\n",
        "\n",
        "3. What is the purpose of the finally block in exception handling?\n",
        ">> The finally block always executes, regardless of whether an exception occurred, ensuring resource cleanup like closing files or releasing memory.\n",
        "\n",
        "4. What is logging in Python?\n",
        ">> The logging module records events, errors, and debug messages in a program.\n",
        "It helps track issues without using print(), especially in large applications.\n",
        "Different log levels include DEBUG, INFO, WARNING, ERROR, and CRITICAL.\n",
        "\n",
        "5. What is the significance of the __del__ method in Python?\n",
        ">> __del__ is a destructor method called when an object is about to be deleted.\n",
        "It helps free resources and perform cleanup operations automatically.\n",
        "However, relying too much on __del__ can lead to issues with garbage collection.\n",
        "\n",
        "6. What is the difference between import and from ... import in Python?\n",
        ">> import module loads the entire module, requiring module.function() to access.\n",
        "from module import function imports specific functions, allowing direct use.\n",
        "The latter reduces typing but may lead to namespace conflicts.\n",
        "\n",
        "7. How can you handle multiple exceptions in Python?\n",
        ">> Use multiple except blocks for handling different exceptions separately.\n",
        "Alternatively, catch multiple exceptions in a tuple: except (Error1, Error2).\n",
        "The except Exception as e syntax captures all exceptions for logging.\n",
        "\n",
        "8. What is the purpose of the with statement when handling files in Python?\n",
        ">> The with statement automatically closes files after operations.\n",
        "It prevents memory leaks and ensures proper resource management.\n",
        "\n",
        "9.  What is the difference between multithreading and multiprocessing?\n",
        ">>  Multithreading allows multiple threads in a single process, sharing memory.\n",
        "Multiprocessing creates separate processes, utilizing multiple CPU cores.\n",
        "Multiprocessing is better for CPU-intensive tasks, while threading is good for I/O tasks.\n",
        "\n",
        "10. What are the advantages of using logging in a program?\n",
        ">> Helps track errors, debug issues, and monitor program execution.\n",
        "Avoids excessive use of print(), making logs structured and organized.\n",
        "Supports different log levels like DEBUG, INFO, and ERROR for better management.\n",
        "\n",
        "11. What is memory management in Python?\n",
        ">> Python manages memory using automatic garbage collection and reference counting. The garbage collector removes objects that are no longer in use, freeing up memory. Memory is allocated dynamically, and Python handles memory deallocation internally, reducing manual intervention. However, inefficient memory use or circular references can cause memory leaks, which developers must be cautious about.\n",
        "\n",
        "12. What are the basic steps involved in exception handling in Python?\n",
        ">> Exception handling in Python follows a structured approach. The try block contains the code that might raise an exception, and the except block catches and handles specific errors. If no exception occurs, the else block executes, ensuring that only successful executions reach that part. The finally block runs regardless of an exception occurring, making it ideal for resource cleanup such as closing files or network connections.\n",
        "\n",
        "13. Why is memory management important in Python?\n",
        ">> Efficient memory management is crucial for optimizing program performance and preventing memory leaks. Python uses reference counting and cyclic garbage collection to automatically reclaim unused memory. Poor memory management can lead to excessive RAM usage, slowing down applications, especially in large-scale data processing. Managing memory efficiently ensures smoother execution and better resource utilization.\n",
        "\n",
        "14. What is the role of try and except in exception handling?\n",
        "The try block allows developers to write code that may potentially cause an error without crashing the program. When an exception occurs, the except block handles it gracefully instead of stopping execution. Multiple except blocks can be used for handling different exceptions separately. This approach enhances code robustness and prevents unexpected application failures.\n",
        "\n",
        "15. How does Python's garbage collection system work?\n",
        "Python uses a combination of reference counting and cyclic garbage collection to manage memory. Each object in Python has a reference count that tracks how many variables point to it. When the count reaches zero, the memory is automatically freed. The gc module in Python also detects and removes cyclic references, where objects reference each other, preventing memory leaks.\n",
        "\n",
        "16. What is the purpose of the else block in exception handling?\n",
        "The else block in exception handling executes only when no exception is raised in the try block. This is useful for separating error handling logic from the main execution flow. It ensures that clean and successful executions are handled separately from error scenarios, improving code clarity and maintainability.\n",
        "\n",
        "17. What are the common logging levels in Python?\n",
        "Python's logging module provides different levels of severity for log messages. The levels include DEBUG (detailed information for debugging), INFO (general information about program execution), WARNING (indications of potential issues), ERROR (serious problems that need attention), and CRITICAL (severe errors causing program failure). Using these levels helps in efficient log management and debugging.\n",
        "\n",
        "18. What is the difference between os.fork() and multiprocessing in Python?\n",
        "The os.fork() function is used in Unix-based systems to create a child process that runs independently. It creates an identical process but shares memory space, making it risky for complex applications. The multiprocessing module, on the other hand, works across platforms and allows process-based parallelism, utilizing multiple CPU cores efficiently. It provides better control over process management and communication.\n",
        "\n",
        "19. What is the importance of closing a file in Python?\n",
        "Closing a file after operations is crucial to free up system resources and prevent data corruption. If a file is left open, it may lead to memory leaks or unintended data loss. The best practice is to use the with statement, which automatically closes the file after execution, ensuring safe handling and avoiding potential file access conflicts.\n",
        "\n",
        "20. What is the difference between file.read() and file.readline() in Python?\n",
        "The file.read() method reads the entire file as a single string, making it useful when working with small files. On the other hand, file.readline() reads only one line at a time, making it efficient for handling large files without consuming excessive memory. Using file.readline() in a loop ensures better memory management when processing large text files.\n",
        "\n",
        "21. What is the logging module in Python used for?\n",
        "Python's logging module provides a powerful way to track application events and errors. It allows developers to log messages at different severity levels, store logs in files, and format log messages efficiently. Logging is widely used in production environments to monitor application performance, track issues, and maintain debugging records without cluttering the code with print() statements.\n",
        "\n",
        "22. What is the os module in Python used for in file handling?\n",
        "The os module in Python provides functions to interact with the operating system, including file and directory management. It allows operations like creating, renaming, deleting files, and checking file existence. The os.path submodule is particularly useful for handling file paths, making file manipulation across different operating systems easier.\n",
        "\n",
        "230. What are the challenges associated with memory management in Python?\n",
        "Python's automatic memory management simplifies development, but challenges like circular references, memory fragmentation, and inefficient object allocation can lead to performance issues. Since Python uses dynamic typing, objects can consume more memory than necessary. Developers need to use tools like the gc module to monitor and optimize memory usage, especially in high-performance applications.\n",
        "\n",
        "24. How do you raise an exception manually in Python?\n",
        "Python allows developers to raise exceptions manually using the raise statement. This is useful for enforcing conditions and stopping execution when unexpected scenarios occur. For example, raise ValueError(\"Invalid Input\") will explicitly trigger a ValueError. Custom exceptions can also be created by subclassing the built-in Exception class.\n",
        "\n",
        "25. Why is it important to use multithreading in certain applications?\n",
        "Multithreading is essential for improving the performance of applications that involve multiple I/O-bound tasks, such as web scraping, GUI applications, and network requests. It allows multiple tasks to run concurrently within a single process, reducing wait time and enhancing responsiveness. However, due to Python’s Global Interpreter Lock (GIL), multithreading does not improve performance for CPU-intensive tasks, where multiprocessing is a better choice.\n"
      ],
      "metadata": {
        "id": "4a9Im4u9-sTn"
      }
    },
    {
      "cell_type": "code",
      "source": [
        "# 1 How can you open a file for writing in Python and write a string to it?\n",
        "with open(\"example.txt\", \"w\") as file:\n",
        "    file.write(\"Hello, World!\")"
      ],
      "metadata": {
        "id": "7vmEGe32DTLR"
      },
      "execution_count": 1,
      "outputs": []
    },
    {
      "cell_type": "code",
      "source": [
        "# 2  Write a Python program to read the contents of a file and print each line\n",
        "with open(\"example.txt\", \"r\") as file:\n",
        "    for line in file:\n",
        "        print(line.strip())"
      ],
      "metadata": {
        "id": "8sOaib8x_FRl"
      },
      "execution_count": null,
      "outputs": []
    },
    {
      "cell_type": "code",
      "source": [
        "# 3. How would you handle a case where the file doesn't exist while trying to open it for reading?\n",
        "with open(\"nonexistent_file.txt\", \"r\") as file:\n",
        "    content = file.read()"
      ],
      "metadata": {
        "id": "CamNhGilD7W3"
      },
      "execution_count": null,
      "outputs": []
    },
    {
      "cell_type": "code",
      "source": [
        "# 4. Write a Python script that reads from one file and writes its content to another file\n",
        "with open(\"source.txt\", \"r\") as source_file:\n",
        "    content = source_file.read()\n",
        "\n",
        "with open(\"destination.txt\", \"w\") as destination_file:\n",
        "    destination_file.write(content)"
      ],
      "metadata": {
        "id": "oRoiWT92ERLg"
      },
      "execution_count": 3,
      "outputs": []
    },
    {
      "cell_type": "code",
      "source": [
        "# 5. How would you catch and handle division by zero error in Python?\n",
        "try:\n",
        "    result = 10 / 0\n",
        "except ZeroDivisionError:\n",
        "    print(\"Cannot divide by zero!\")"
      ],
      "metadata": {
        "colab": {
          "base_uri": "https://localhost:8080/"
        },
        "id": "MIyuAlSVEd83",
        "outputId": "f30e3f1e-d223-4ccb-a30d-6fd621034a2d"
      },
      "execution_count": 4,
      "outputs": [
        {
          "output_type": "stream",
          "name": "stdout",
          "text": [
            "Cannot divide by zero!\n"
          ]
        }
      ]
    },
    {
      "cell_type": "code",
      "source": [
        "# 6. Write a Python program that logs an error message to a log file when a division by zero exception occurs\n",
        "with open(\"error_log.txt\", \"a\") as log_file:\n",
        "    try:\n",
        "        result = 10 / 0\n",
        "    except ZeroDivisionError:\n",
        "        error_message = \"Division by zero error occurred!\""
      ],
      "metadata": {
        "id": "SF5rZVApEs0P"
      },
      "execution_count": null,
      "outputs": []
    },
    {
      "cell_type": "code",
      "source": [
        "# 7. How do you log information at different levels (INFO, ERROR, WARNING) in Python using the logging module.\n",
        "import logging\n",
        "\n",
        "logging.basicConfig(filename=\"app.log\", level=logging.INFO)\n",
        "logging.info(\"This is an info message.\")\n",
        "\n",
        "logging.basicConfig(filename=\"app.log\", level=logging.ERROR)\n",
        "logging.error(\"This is an error message.\")\n",
        "\n",
        "logging.basicConfig(filename=\"app.log\", level=logging.WARNING)\n",
        "logging.warning(\"This is a WARNING message.\")"
      ],
      "metadata": {
        "colab": {
          "base_uri": "https://localhost:8080/"
        },
        "id": "JZEhxOF-E7GP",
        "outputId": "014fd577-0918-45d3-8b93-6b217b1e278f"
      },
      "execution_count": 5,
      "outputs": [
        {
          "output_type": "stream",
          "name": "stderr",
          "text": [
            "ERROR:root:This is an error message.\n",
            "WARNING:root:This is a WARNING message.\n"
          ]
        }
      ]
    },
    {
      "cell_type": "code",
      "source": [
        "# 8. Write a program to handle a file opening error using exception handling.\n",
        "try:\n",
        "    with open(\"unknown.txt\", \"r\") as file:\n",
        "        data = file.read()\n",
        "except Exception as e:\n",
        "    print(f\"An error occurred: {e}\")"
      ],
      "metadata": {
        "colab": {
          "base_uri": "https://localhost:8080/"
        },
        "id": "m05aDWRvFpMn",
        "outputId": "22f4650d-b44c-4075-a605-d46472383713"
      },
      "execution_count": 6,
      "outputs": [
        {
          "output_type": "stream",
          "name": "stdout",
          "text": [
            "An error occurred: [Errno 2] No such file or directory: 'unknown.txt'\n"
          ]
        }
      ]
    },
    {
      "cell_type": "code",
      "source": [
        "# 9.How can you read a file line by line and store its content in a list in Python.\n",
        "with open(\"example.txt\", \"r\") as file:\n",
        "    lines = file.readlines()\n",
        "print(lines)"
      ],
      "metadata": {
        "id": "nZTsR96EGA3_"
      },
      "execution_count": null,
      "outputs": []
    },
    {
      "cell_type": "code",
      "source": [
        "# 10. can you append data to an existing file in Python\n",
        "with open(\"example.txt\", \"a\") as file:\n",
        "    file.write(\"\\nAppending new data!\")\n",
        ""
      ],
      "metadata": {
        "id": "RiSlR_-hGOoP"
      },
      "execution_count": null,
      "outputs": []
    },
    {
      "cell_type": "code",
      "source": [
        "# 11. Write a Python program that uses a try-except block to handle an error when attempting to access a dictionary key that doesn't exist.\n",
        "my_dict = {\"a\": 1, \"b\": 2}\n",
        "\n",
        "try:\n",
        "    value = my_dict[\"c\"]\n",
        "except KeyError:\n",
        "    print(\"Key not found in the dictionary.\")"
      ],
      "metadata": {
        "colab": {
          "base_uri": "https://localhost:8080/"
        },
        "id": "SNlp9aYXGej3",
        "outputId": "e3b46ee6-00a7-4ca3-9bf8-2d784006358c"
      },
      "execution_count": 7,
      "outputs": [
        {
          "output_type": "stream",
          "name": "stdout",
          "text": [
            "Key not found in the dictionary.\n"
          ]
        }
      ]
    },
    {
      "cell_type": "code",
      "source": [
        "# 12. Write a program that demonstrates using multiple except blocks to handle different types of exceptions.\n",
        "try:\n",
        "    x = int(\"abc\")  # ValueError\n",
        "    y = 10 / 0  # ZeroDivisionError\n",
        "except ValueError:\n",
        "    print(\"Invalid conversion!\")\n",
        "except ZeroDivisionError:\n",
        "    print(\"Cannot divide by zero!\")"
      ],
      "metadata": {
        "id": "S8xaxGRdGu-n"
      },
      "execution_count": null,
      "outputs": []
    },
    {
      "cell_type": "code",
      "source": [
        "# 13. How would you check if a file exists before attempting to read it in Python?\n",
        "import os\n",
        "\n",
        "if os.path.exists(\"example.txt\"):\n",
        "    with open(\"example.txt\", \"r\") as file:\n",
        "        print(file.read())\n",
        "else:\n",
        "    print(\"File does not exist.\")"
      ],
      "metadata": {
        "id": "-j0LpTeFHBYf"
      },
      "execution_count": null,
      "outputs": []
    },
    {
      "cell_type": "code",
      "source": [
        "# 14. Write a program that uses the logging module to log both informational and error messages.\n",
        "import logging\n",
        "\n",
        "logging.basicConfig(filename=\"app.log\", level=logging.INFO)\n",
        "\n",
        "logging.info(\"Program started\")\n",
        "try:\n",
        "    x = 10 / 0\n",
        "except ZeroDivisionError as e:\n",
        "    logging.error(f\"Error: {e}\")"
      ],
      "metadata": {
        "colab": {
          "base_uri": "https://localhost:8080/"
        },
        "id": "TiGcjy6kHLEf",
        "outputId": "09ba0b46-6121-48a7-f9bf-f4ce537a9a90"
      },
      "execution_count": 8,
      "outputs": [
        {
          "output_type": "stream",
          "name": "stderr",
          "text": [
            "ERROR:root:Error: division by zero\n"
          ]
        }
      ]
    },
    {
      "cell_type": "code",
      "source": [
        "# 15. Write a Python program that prints the content of a file and handles the case when the file is empty\n",
        "try:\n",
        "    with open(\"example.txt\", \"r\") as file:\n",
        "        content = file.read()\n",
        "        if not content:\n",
        "            raise ValueError(\"File is empty\")"
      ],
      "metadata": {
        "id": "0ZJ2RZ8gJVEX"
      },
      "execution_count": 18,
      "outputs": []
    },
    {
      "cell_type": "code",
      "source": [
        "!pip install memory_profiler\n",
        "# 16. Demonstrate how to use memory profiling to check the memory usage of a small program.\n",
        "from memory_profiler import profile\n",
        "\n",
        "@profile\n",
        "def memory_usage():\n",
        "    lst = [i for i in range(100000)]\n",
        "\n",
        "memory_usage()"
      ],
      "metadata": {
        "colab": {
          "base_uri": "https://localhost:8080/"
        },
        "id": "MQQmSTKEJKUo",
        "outputId": "05b3601a-ae43-4fe1-c67f-a2f14db462aa"
      },
      "execution_count": 11,
      "outputs": [
        {
          "output_type": "stream",
          "name": "stdout",
          "text": [
            "Collecting memory_profiler\n",
            "  Downloading memory_profiler-0.61.0-py3-none-any.whl.metadata (20 kB)\n",
            "Requirement already satisfied: psutil in /usr/local/lib/python3.11/dist-packages (from memory_profiler) (5.9.5)\n",
            "Downloading memory_profiler-0.61.0-py3-none-any.whl (31 kB)\n",
            "Installing collected packages: memory_profiler\n",
            "Successfully installed memory_profiler-0.61.0\n"
          ]
        },
        {
          "output_type": "stream",
          "name": "stderr",
          "text": [
            "\n",
            "PYDEV DEBUGGER WARNING:\n",
            "sys.settrace() should not be used when the debugger is being used.\n",
            "This may cause the debugger to stop working correctly.\n",
            "If this is needed, please check: \n",
            "http://pydev.blogspot.com/2007/06/why-cant-pydev-debugger-work-with.html\n",
            "to see how to restore the debug tracing back correctly.\n",
            "Call Location:\n",
            "  File \"/usr/local/lib/python3.11/dist-packages/memory_profiler.py\", line 847, in enable\n",
            "    sys.settrace(self.trace_memory_usage)\n",
            "\n",
            "\n",
            "PYDEV DEBUGGER WARNING:\n",
            "sys.settrace() should not be used when the debugger is being used.\n",
            "This may cause the debugger to stop working correctly.\n",
            "If this is needed, please check: \n",
            "http://pydev.blogspot.com/2007/06/why-cant-pydev-debugger-work-with.html\n",
            "to see how to restore the debug tracing back correctly.\n",
            "Call Location:\n",
            "  File \"/usr/local/lib/python3.11/dist-packages/memory_profiler.py\", line 850, in disable\n",
            "    sys.settrace(self._original_trace_function)\n",
            "\n"
          ]
        },
        {
          "output_type": "stream",
          "name": "stdout",
          "text": [
            "ERROR: Could not find file <ipython-input-11-47abff190a16>\n",
            "NOTE: %mprun can only be used on functions defined in physical files, and not in the IPython environment.\n"
          ]
        }
      ]
    },
    {
      "cell_type": "code",
      "source": [
        "# 17.Write a Python program to create and write a list of numbers to a file, one number per line\n",
        "with open(\"numbers.txt\", \"w\") as file:\n",
        "    numbers = [1, 2, 3, 4, 5]\n",
        "    for num in numbers:\n",
        "        file.write(str(num) + \"\\n\")"
      ],
      "metadata": {
        "id": "SkuGajvCId-Y"
      },
      "execution_count": 12,
      "outputs": []
    },
    {
      "cell_type": "code",
      "source": [
        "# 18.How would you implement a basic logging setup that logs to a file with rotation after 1MB?\n",
        "import logging\n",
        "from logging.handlers import RotatingFileHandler\n",
        "\n",
        "logging.basicConfig(level=logging.INFO)\n",
        "handler = RotatingFileHandler(\"app.log\", maxBytes=1000000, backupCount=5)\n",
        "\n",
        "logging.info(\"This is a log message.\")"
      ],
      "metadata": {
        "id": "JIJJ24hpJ1b3"
      },
      "execution_count": 15,
      "outputs": []
    },
    {
      "cell_type": "code",
      "source": [
        "# 19. Write a program that handles both IndexError and KeyError using a try-except block.\n",
        "try:\n",
        "    lst = [1, 2, 3]\n",
        "    print(lst[5])\n",
        "    my_dict = {\"a\": 1}\n",
        "    print(my_dict[\"b\"])\n",
        "except IndexError:\n",
        "    print(\"List index out of range!\")\n",
        "except KeyError:\n",
        "    print(\"Key not found in dictionary!\")"
      ],
      "metadata": {
        "colab": {
          "base_uri": "https://localhost:8080/"
        },
        "id": "iYWDdG1lKIcv",
        "outputId": "468b03ec-654d-4a05-bf18-d94c0387ebd8"
      },
      "execution_count": 16,
      "outputs": [
        {
          "output_type": "stream",
          "name": "stdout",
          "text": [
            "List index out of range!\n"
          ]
        }
      ]
    },
    {
      "cell_type": "code",
      "source": [
        "# 20. How would you open a file and read its contents using a context manager in Python?\n",
        "with open(\"example.txt\", \"r\") as file:\n",
        "    content = file.read()\n",
        "    print(file.read())"
      ],
      "metadata": {
        "colab": {
          "base_uri": "https://localhost:8080/"
        },
        "id": "FpYoHnL6KS6Q",
        "outputId": "1be1f6db-6c9a-42f0-ff7e-2a28c8a994b8"
      },
      "execution_count": 19,
      "outputs": [
        {
          "output_type": "stream",
          "name": "stdout",
          "text": [
            "\n"
          ]
        }
      ]
    },
    {
      "cell_type": "code",
      "source": [
        "# 21. Write a Python program that reads a file and prints the number of occurrences of a specific word.\n",
        "word_to_count = \"Python\"\n",
        "\n",
        "with open(\"example.txt\", \"r\") as file:\n",
        "    content = file.read()\n",
        "    words = content.split()\n",
        "    count = words.count(word_to_count)\n"
      ],
      "metadata": {
        "id": "UmDc54VXKui4"
      },
      "execution_count": 20,
      "outputs": []
    },
    {
      "cell_type": "code",
      "source": [
        "# 22.  How can you check if a file is empty before attempting to read its contents?\n",
        "import os\n",
        "\n",
        "if os.stat(\"example.txt\").st_size == 0:\n",
        "    print(\"File is empty.\")\n",
        "else:\n",
        "    print(\"File has content.\")"
      ],
      "metadata": {
        "id": "enT2ch-lLEpg"
      },
      "execution_count": null,
      "outputs": []
    },
    {
      "cell_type": "code",
      "source": [
        "# 23. Write a Python program that writes to a log file when an error occurs during file handling.\n",
        "import logging\n",
        "\n",
        "logging.basicConfig(filename=\"file_errors.log\", level=logging.ERROR)\n",
        "\n",
        "try:\n",
        "    with open(\"non_existent.txt\", \"r\") as file:\n",
        "        content = file.read()\n",
        "except Exception as e:\n",
        "    logging.error(f\"File handling error: {e}\")"
      ],
      "metadata": {
        "colab": {
          "base_uri": "https://localhost:8080/"
        },
        "id": "xPg8ci5aLLBX",
        "outputId": "343aee4d-8d66-45f7-ee70-15dd73cba230"
      },
      "execution_count": 21,
      "outputs": [
        {
          "output_type": "stream",
          "name": "stderr",
          "text": [
            "ERROR:root:File handling error: [Errno 2] No such file or directory: 'non_existent.txt'\n"
          ]
        }
      ]
    }
  ]
}